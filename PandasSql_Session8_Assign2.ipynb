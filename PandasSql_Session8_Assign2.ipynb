{
 "cells": [
  {
   "cell_type": "markdown",
   "metadata": {},
   "source": [
    "Read the following data set: https://archive.ics.uci.edu/ml/machine-learning-databases/adult/adult.data Task:\n",
    "\n"
   ]
  },
  {
   "cell_type": "markdown",
   "metadata": {},
   "source": [
    "1.Create an sqlalchemy engine using a sample from the data set\n"
   ]
  },
  {
   "cell_type": "code",
   "execution_count": 16,
   "metadata": {},
   "outputs": [
    {
     "name": "stdout",
     "output_type": "stream",
     "text": [
      "2019-01-30 06:54:26,601 INFO sqlalchemy.engine.base.Engine SELECT CAST('test plain returns' AS VARCHAR(60)) AS anon_1\n",
      "2019-01-30 06:54:26,610 INFO sqlalchemy.engine.base.Engine ()\n",
      "2019-01-30 06:54:26,624 INFO sqlalchemy.engine.base.Engine SELECT CAST('test unicode returns' AS VARCHAR(60)) AS anon_1\n",
      "2019-01-30 06:54:26,632 INFO sqlalchemy.engine.base.Engine ()\n",
      "2019-01-30 06:54:36,060 INFO sqlalchemy.engine.base.Engine PRAGMA table_info(\"adults1\")\n",
      "2019-01-30 06:54:36,062 INFO sqlalchemy.engine.base.Engine ()\n",
      "2019-01-30 06:54:36,069 INFO sqlalchemy.engine.base.Engine \n",
      "CREATE TABLE adults1 (\n",
      "\t\"index\" BIGINT, \n",
      "\tage BIGINT, \n",
      "\tworkclass TEXT, \n",
      "\tfnlwgt BIGINT, \n",
      "\teducation TEXT, \n",
      "\t\"educationNum\" BIGINT, \n",
      "\tmarital_status TEXT, \n",
      "\toccupation TEXT, \n",
      "\trelationship TEXT, \n",
      "\trace TEXT, \n",
      "\tsex TEXT, \n",
      "\tcapital_gain BIGINT, \n",
      "\tcapital_loss BIGINT, \n",
      "\thours_per_week BIGINT, \n",
      "\tnative_country TEXT, \n",
      "\tincome TEXT\n",
      ")\n",
      "\n",
      "\n",
      "2019-01-30 06:54:36,071 INFO sqlalchemy.engine.base.Engine ()\n",
      "2019-01-30 06:54:36,185 INFO sqlalchemy.engine.base.Engine COMMIT\n",
      "2019-01-30 06:54:36,187 INFO sqlalchemy.engine.base.Engine CREATE INDEX ix_adults1_index ON adults1 (\"index\")\n",
      "2019-01-30 06:54:36,188 INFO sqlalchemy.engine.base.Engine ()\n",
      "2019-01-30 06:54:36,287 INFO sqlalchemy.engine.base.Engine COMMIT\n",
      "2019-01-30 06:54:36,333 INFO sqlalchemy.engine.base.Engine BEGIN (implicit)\n",
      "2019-01-30 06:54:37,022 INFO sqlalchemy.engine.base.Engine INSERT INTO adults1 (\"index\", age, workclass, fnlwgt, education, \"educationNum\", marital_status, occupation, relationship, race, sex, capital_gain, capital_loss, hours_per_week, native_country, income) VALUES (?, ?, ?, ?, ?, ?, ?, ?, ?, ?, ?, ?, ?, ?, ?, ?)\n",
      "2019-01-30 06:54:37,024 INFO sqlalchemy.engine.base.Engine ((0, 39, ' State-gov', 77516, ' Bachelors', 13, ' Never-married', ' Adm-clerical', ' Not-in-family', ' White', ' Male', 2174, 0, 40, ' United-States', ' <=50K'), (1, 50, ' Self-emp-not-inc', 83311, ' Bachelors', 13, ' Married-civ-spouse', ' Exec-managerial', ' Husband', ' White', ' Male', 0, 0, 13, ' United-States', ' <=50K'), (2, 38, ' Private', 215646, ' HS-grad', 9, ' Divorced', ' Handlers-cleaners', ' Not-in-family', ' White', ' Male', 0, 0, 40, ' United-States', ' <=50K'), (3, 53, ' Private', 234721, ' 11th', 7, ' Married-civ-spouse', ' Handlers-cleaners', ' Husband', ' Black', ' Male', 0, 0, 40, ' United-States', ' <=50K'), (4, 28, ' Private', 338409, ' Bachelors', 13, ' Married-civ-spouse', ' Prof-specialty', ' Wife', ' Black', ' Female', 0, 0, 40, ' Cuba', ' <=50K'), (5, 37, ' Private', 284582, ' Masters', 14, ' Married-civ-spouse', ' Exec-managerial', ' Wife', ' White', ' Female', 0, 0, 40, ' United-States', ' <=50K'), (6, 49, ' Private', 160187, ' 9th', 5, ' Married-spouse-absent', ' Other-service', ' Not-in-family', ' Black', ' Female', 0, 0, 16, ' Jamaica', ' <=50K'), (7, 52, ' Self-emp-not-inc', 209642, ' HS-grad', 9, ' Married-civ-spouse', ' Exec-managerial', ' Husband', ' White', ' Male', 0, 0, 45, ' United-States', ' >50K')  ... displaying 10 of 32561 total bound parameter sets ...  (32559, 22, ' Private', 201490, ' HS-grad', 9, ' Never-married', ' Adm-clerical', ' Own-child', ' White', ' Male', 0, 0, 20, ' United-States', ' <=50K'), (32560, 52, ' Self-emp-inc', 287927, ' HS-grad', 9, ' Married-civ-spouse', ' Exec-managerial', ' Wife', ' White', ' Female', 15024, 0, 40, ' United-States', ' >50K'))\n",
      "2019-01-30 06:54:37,468 INFO sqlalchemy.engine.base.Engine COMMIT\n"
     ]
    }
   ],
   "source": [
    "import sqlalchemy\n",
    "from sqlalchemy import create_engine\n",
    "from sqlalchemy import create_engine, MetaData, Table, Column, Integer, String\n",
    "from sqlalchemy.ext.declarative import declarative_base\n",
    "import pandas as pd\n",
    "\n",
    "engine = create_engine('sqlite:///sqlliteadults.db', echo=True)\n",
    "Base = declarative_base()\n",
    "Base.metadata.create_all(engine)\n",
    "cols=['age','workclass','fnlwgt','education','educationNum','marital_status','occupation','relationship','race','sex','capital_gain','capital_loss','hours_per_week','native_country','income']\n",
    "adultDf = pd.read_csv('https://archive.ics.uci.edu/ml/machine-learning-databases/adult/adult.data',sep=\",\",header=None,names=cols)\n",
    "adultDf.to_sql('adults1', engine)"
   ]
  },
  {
   "cell_type": "markdown",
   "metadata": {},
   "source": [
    "2.Write two basic update queries"
   ]
  },
  {
   "cell_type": "code",
   "execution_count": 20,
   "metadata": {},
   "outputs": [
    {
     "ename": "NameError",
     "evalue": "name 'conn' is not defined",
     "output_type": "error",
     "traceback": [
      "\u001b[1;31m---------------------------------------------------------------------------\u001b[0m",
      "\u001b[1;31mNameError\u001b[0m                                 Traceback (most recent call last)",
      "\u001b[1;32m<ipython-input-20-07406aaefe58>\u001b[0m in \u001b[0;36m<module>\u001b[1;34m()\u001b[0m\n\u001b[1;32m----> 1\u001b[1;33m \u001b[0mresult\u001b[0m \u001b[1;33m=\u001b[0m \u001b[0mconn\u001b[0m\u001b[1;33m.\u001b[0m\u001b[0mexecute\u001b[0m\u001b[1;33m(\u001b[0m\u001b[1;34m\"Update adults1 set sex='M' where sex=' Male' \"\u001b[0m\u001b[1;33m)\u001b[0m\u001b[1;33m\u001b[0m\u001b[0m\n\u001b[0m",
      "\u001b[1;31mNameError\u001b[0m: name 'conn' is not defined"
     ]
    }
   ],
   "source": [
    "result = conn.execute(\"Update adults1 set sex='M' where sex=' Male' \")"
   ]
  },
  {
   "cell_type": "code",
   "execution_count": 25,
   "metadata": {},
   "outputs": [
    {
     "name": "stdout",
     "output_type": "stream",
     "text": [
      "2019-01-30 06:58:15,434 INFO sqlalchemy.engine.base.Engine Update adults1 set native_country ='USA' where native_country =' United-States' \n",
      "2019-01-30 06:58:15,436 INFO sqlalchemy.engine.base.Engine ()\n",
      "2019-01-30 06:58:16,375 INFO sqlalchemy.engine.base.Engine COMMIT\n"
     ]
    }
   ],
   "source": [
    "#update Native Country United-States -> USA\n",
    "\n",
    "result = conn.execute(\"Update adults1 set native_country ='USA' where native_country =' United-States' \")"
   ]
  },
  {
   "cell_type": "code",
   "execution_count": 24,
   "metadata": {},
   "outputs": [
    {
     "name": "stdout",
     "output_type": "stream",
     "text": [
      "2019-01-30 06:58:10,164 INFO sqlalchemy.engine.base.Engine SELECT sex FROM adults1 limit 20\n",
      "2019-01-30 06:58:10,166 INFO sqlalchemy.engine.base.Engine ()\n"
     ]
    }
   ],
   "source": [
    "result = conn.execute('SELECT sex FROM adults1 limit 20').fetchall()"
   ]
  },
  {
   "cell_type": "code",
   "execution_count": 26,
   "metadata": {},
   "outputs": [
    {
     "name": "stdout",
     "output_type": "stream",
     "text": [
      "2019-01-30 06:58:21,980 INFO sqlalchemy.engine.base.Engine SELECT distinct(native_country)  FROM adults1 limit 20\n",
      "2019-01-30 06:58:21,983 INFO sqlalchemy.engine.base.Engine ()\n",
      "[('USA',), (' Cuba',), (' Jamaica',), (' India',), (' ?',), (' Mexico',), (' South',), (' Puerto-Rico',), (' Honduras',), (' England',), (' Canada',), (' Germany',), (' Iran',), (' Philippines',), (' Italy',), (' Poland',), (' Columbia',), (' Cambodia',), (' Thailand',), (' Ecuador',)]\n"
     ]
    }
   ],
   "source": [
    "conn = engine.connect()\n",
    "result = conn.execute('SELECT distinct(native_country)  FROM adults1 limit 20').fetchall()\n",
    "print(result)"
   ]
  },
  {
   "cell_type": "markdown",
   "metadata": {},
   "source": [
    "3#1 delete records with native country Ecuador \n"
   ]
  },
  {
   "cell_type": "code",
   "execution_count": 27,
   "metadata": {},
   "outputs": [
    {
     "name": "stdout",
     "output_type": "stream",
     "text": [
      "2019-01-30 06:59:15,305 INFO sqlalchemy.engine.base.Engine DELETE from adults1 where native_country=' Ecuador'\n",
      "2019-01-30 06:59:15,308 INFO sqlalchemy.engine.base.Engine ()\n",
      "2019-01-30 06:59:15,378 INFO sqlalchemy.engine.base.Engine COMMIT\n",
      "<sqlalchemy.engine.result.ResultProxy object at 0x04354710>\n"
     ]
    }
   ],
   "source": [
    "conn = engine.connect()\n",
    "result = conn.execute(\"DELETE from adults1 where native_country=' Ecuador'\")\n",
    "print(result)"
   ]
  },
  {
   "cell_type": "code",
   "execution_count": 28,
   "metadata": {},
   "outputs": [
    {
     "name": "stdout",
     "output_type": "stream",
     "text": [
      "2019-01-30 06:59:48,722 INFO sqlalchemy.engine.base.Engine SELECT * from adults1 where native_country=' Ecuador'\n",
      "2019-01-30 06:59:48,723 INFO sqlalchemy.engine.base.Engine ()\n",
      "[]\n"
     ]
    }
   ],
   "source": [
    "conn = engine.connect()\n",
    "result = conn.execute(\"SELECT * from adults1 where native_country=' Ecuador'\").fetchall()\n",
    "print(result)"
   ]
  },
  {
   "cell_type": "markdown",
   "metadata": {},
   "source": [
    "3#2 delete records with age 30"
   ]
  },
  {
   "cell_type": "code",
   "execution_count": 29,
   "metadata": {},
   "outputs": [
    {
     "name": "stdout",
     "output_type": "stream",
     "text": [
      "2019-01-30 07:00:29,789 INFO sqlalchemy.engine.base.Engine DELETE from adults1 where age='30'\n",
      "2019-01-30 07:00:29,791 INFO sqlalchemy.engine.base.Engine ()\n",
      "2019-01-30 07:00:30,139 INFO sqlalchemy.engine.base.Engine COMMIT\n",
      "<sqlalchemy.engine.result.ResultProxy object at 0x067749B0>\n"
     ]
    }
   ],
   "source": [
    "conn = engine.connect()\n",
    "result = conn.execute(\"DELETE from adults1 where age='30'\")\n",
    "print(result)"
   ]
  },
  {
   "cell_type": "code",
   "execution_count": 30,
   "metadata": {},
   "outputs": [],
   "source": [
    "#4.1 filter where age=29 and 30 "
   ]
  },
  {
   "cell_type": "code",
   "execution_count": 31,
   "metadata": {},
   "outputs": [
    {
     "name": "stdout",
     "output_type": "stream",
     "text": [
      "2019-01-30 07:01:07,819 INFO sqlalchemy.engine.base.Engine SELECT distinct(age) from adults1 where age>0 and age<100 order by age asc\n",
      "2019-01-30 07:01:07,822 INFO sqlalchemy.engine.base.Engine ()\n",
      "[(17,), (18,), (19,), (20,), (21,), (22,), (23,), (24,), (25,), (26,), (27,), (28,), (29,), (31,), (32,), (33,), (34,), (35,), (36,), (37,), (38,), (39,), (40,), (41,), (42,), (43,), (44,), (45,), (46,), (47,), (48,), (49,), (50,), (51,), (52,), (53,), (54,), (55,), (56,), (57,), (58,), (59,), (60,), (61,), (62,), (63,), (64,), (65,), (66,), (67,), (68,), (69,), (70,), (71,), (72,), (73,), (74,), (75,), (76,), (77,), (78,), (79,), (80,), (81,), (82,), (83,), (84,), (85,), (86,), (87,), (88,), (90,)]\n"
     ]
    }
   ],
   "source": [
    "conn = engine.connect()\n",
    "result = conn.execute(\"SELECT distinct(age) from adults1 where age>0 and age<100 order by age asc\").fetchall()\n",
    "print(result)"
   ]
  },
  {
   "cell_type": "markdown",
   "metadata": {},
   "source": [
    "#4.2 where profit<10000"
   ]
  },
  {
   "cell_type": "code",
   "execution_count": 36,
   "metadata": {},
   "outputs": [
    {
     "name": "stdout",
     "output_type": "stream",
     "text": [
      "2019-01-30 07:02:07,524 INFO sqlalchemy.engine.base.Engine SELECT count(capital_gain-capital_loss) from adults1 where capital_gain-capital_loss>10000\n",
      "2019-01-30 07:02:07,527 INFO sqlalchemy.engine.base.Engine ()\n",
      "[(754,)]\n"
     ]
    }
   ],
   "source": [
    "conn = engine.connect()\n",
    "result = conn.execute(\"SELECT count(capital_gain-capital_loss) from adults1 where capital_gain-capital_loss>10000\").fetchall()\n",
    "print(result)"
   ]
  },
  {
   "cell_type": "code",
   "execution_count": 37,
   "metadata": {},
   "outputs": [],
   "source": [
    "#5.1 maximum age of adults in the given dataset"
   ]
  },
  {
   "cell_type": "code",
   "execution_count": 54,
   "metadata": {},
   "outputs": [
    {
     "name": "stdout",
     "output_type": "stream",
     "text": [
      "2019-01-30 07:06:28,220 INFO sqlalchemy.engine.base.Engine SELECT max(adults1.age) AS max_1 \n",
      "FROM adults1\n",
      "2019-01-30 07:06:28,222 INFO sqlalchemy.engine.base.Engine ()\n",
      "Max Age of adult in dataset is : (90,)\n"
     ]
    }
   ],
   "source": [
    "from sqlalchemy import func,select,Column,Table,Integer\n",
    "meta = MetaData()\n",
    "adultsTab = Table(\n",
    "   'adults1', meta, \n",
    "   Column('age', Integer)\n",
    ")\n",
    "result = conn.execute(select([func.max(adultsTab.c.age)]))\n",
    "print (\"Max Age of adult in dataset is :\",result.fetchone())"
   ]
  },
  {
   "cell_type": "code",
   "execution_count": 55,
   "metadata": {},
   "outputs": [],
   "source": [
    "#5.2 Average work hours of employee"
   ]
  },
  {
   "cell_type": "code",
   "execution_count": 77,
   "metadata": {},
   "outputs": [
    {
     "name": "stdout",
     "output_type": "stream",
     "text": [
      "2019-01-30 07:08:54,530 INFO sqlalchemy.engine.base.Engine SELECT avg(adults1.hours_per_week) AS avg_1 \n",
      "FROM adults1\n",
      "2019-01-30 07:08:54,532 INFO sqlalchemy.engine.base.Engine ()\n",
      "Average work hours of adults is : 40\n"
     ]
    }
   ],
   "source": [
    "from sqlalchemy import func,select,Column,Table,Integer\n",
    "meta = MetaData()\n",
    "adultsTab = Table(\n",
    "   'adults1', meta, \n",
    "   Column('hours_per_week', Integer)\n",
    ")\n",
    "result = conn.execute(select([func.avg(adultsTab.c.hours_per_week)]))\n",
    "\n",
    "for row in result:\n",
    "    print ('Average work hours of adults is :',int(round(row[0])))"
   ]
  },
  {
   "cell_type": "code",
   "execution_count": null,
   "metadata": {},
   "outputs": [],
   "source": []
  }
 ],
 "metadata": {
  "kernelspec": {
   "display_name": "Python 3",
   "language": "python",
   "name": "python3"
  },
  "language_info": {
   "codemirror_mode": {
    "name": "ipython",
    "version": 3
   },
   "file_extension": ".py",
   "mimetype": "text/x-python",
   "name": "python",
   "nbconvert_exporter": "python",
   "pygments_lexer": "ipython3",
   "version": "3.7.0"
  }
 },
 "nbformat": 4,
 "nbformat_minor": 2
}
